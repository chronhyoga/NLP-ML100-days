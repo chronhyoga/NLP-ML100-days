{
 "cells": [
  {
   "cell_type": "markdown",
   "metadata": {},
   "source": [
    "### 載入所需的Libraries\n",
    "\n",
    "監督式學習 (Supervised learning)\n",
    "\n",
    "優點 (Advantages):\n",
    "\n",
    "It exists notions of the output along the learning process.\n",
    "\n",
    "It performs classification and regression tasks.\n",
    "\n",
    "It allows estimating or mapping the results to a new sample.\n",
    "\n",
    "缺點 (Disadvantages):\n",
    "\n",
    "It requires a labelled dataset.\n",
    "\n",
    "It requires a training process.\n",
    "\n",
    "非監督式學習 (Unsupervised learning)\n",
    "\n",
    "優點 (Advantages):\n",
    "\n",
    "It does not require a training data to be labelled.\n",
    "\n",
    "The automatic labelling of the training dataset saving the time spent in hand classification.\n",
    "\n",
    "Classification task is fast.\n",
    "\n",
    "缺點 (Disadvantages):\n",
    "\n",
    "There are no notions of the output along the learning process.\n",
    "\n",
    "It does not allow to estimate or map the results of a new sample.\n",
    "\n",
    "Results vary considerably in the presence of outliers.\n",
    "\n",
    "It only performs classification task."
   ]
  }
 ],
 "metadata": {
  "kernelspec": {
   "display_name": "Python 3",
   "language": "python",
   "name": "python3"
  },
  "language_info": {
   "codemirror_mode": {
    "name": "ipython",
    "version": 3
   },
   "file_extension": ".py",
   "mimetype": "text/x-python",
   "name": "python",
   "nbconvert_exporter": "python",
   "pygments_lexer": "ipython3",
   "version": "3.8.5"
  }
 },
 "nbformat": 4,
 "nbformat_minor": 2
}
